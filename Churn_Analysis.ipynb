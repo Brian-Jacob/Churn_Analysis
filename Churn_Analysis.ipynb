{
 "cells": [
  {
   "cell_type": "markdown",
   "source": [
    "# Customer Churn Analyis"
   ],
   "metadata": {
    "collapsed": false
   },
   "id": "75fcd91c033418ed"
  },
  {
   "cell_type": "code",
   "execution_count": 9,
   "outputs": [],
   "source": [
    "import kaggle"
   ],
   "metadata": {
    "collapsed": false,
    "ExecuteTime": {
     "end_time": "2025-01-31T06:01:41.530002Z",
     "start_time": "2025-01-31T06:01:41.528166Z"
    }
   },
   "id": "de0d77259e979077"
  },
  {
   "cell_type": "code",
   "execution_count": 20,
   "outputs": [
    {
     "name": "stdout",
     "output_type": "stream",
     "text": [
      "Dataset URL: https://www.kaggle.com/datasets/blastchar/telco-customer-churn\n"
     ]
    }
   ],
   "source": [
    "kaggle.api.authenticate()\n",
    "kaggle.api.dataset_download_files(\"blastchar/telco-customer-churn\",path='./Dataset',unzip=True)"
   ],
   "metadata": {
    "collapsed": false,
    "ExecuteTime": {
     "end_time": "2025-01-31T06:10:41.481937Z",
     "start_time": "2025-01-31T06:10:40.517935Z"
    }
   },
   "id": "3b1a8bed59695e8b"
  },
  {
   "cell_type": "code",
   "execution_count": null,
   "outputs": [],
   "source": [],
   "metadata": {
    "collapsed": false
   },
   "id": "35b66f367197cbab"
  }
 ],
 "metadata": {
  "kernelspec": {
   "display_name": "Python 3",
   "language": "python",
   "name": "python3"
  },
  "language_info": {
   "codemirror_mode": {
    "name": "ipython",
    "version": 2
   },
   "file_extension": ".py",
   "mimetype": "text/x-python",
   "name": "python",
   "nbconvert_exporter": "python",
   "pygments_lexer": "ipython2",
   "version": "2.7.6"
  }
 },
 "nbformat": 4,
 "nbformat_minor": 5
}
