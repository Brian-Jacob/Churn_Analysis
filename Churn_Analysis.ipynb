{
 "cells": [
  {
   "cell_type": "markdown",
   "source": [
    "# Customer Churn Analysis"
   ],
   "metadata": {
    "collapsed": false
   },
   "id": "75fcd91c033418ed"
  },
  {
   "cell_type": "code",
   "execution_count": 9,
   "outputs": [],
   "source": [
    "# import kaggle\n",
    "# kaggle.api.authenticate()\n",
    "# kaggle.api.dataset_download_files(\"blastchar/telco-customer-churn\",path='./Dataset',unzip=True)"
   ],
   "metadata": {
    "collapsed": false,
    "ExecuteTime": {
     "end_time": "2025-01-31T06:01:41.530002Z",
     "start_time": "2025-01-31T06:01:41.528166Z"
    }
   },
   "id": "de0d77259e979077"
  },
  {
   "cell_type": "code",
   "execution_count": null,
   "outputs": [],
   "source": [],
   "metadata": {
    "collapsed": false
   },
   "id": "fe900e03b310cfc5"
  },
  {
   "cell_type": "code",
   "execution_count": null,
   "outputs": [],
   "source": [],
   "metadata": {
    "collapsed": false
   },
   "id": "ed5d3f544a09626"
  },
  {
   "cell_type": "code",
   "execution_count": null,
   "outputs": [],
   "source": [],
   "metadata": {
    "collapsed": false
   },
   "id": "d79c824f3c463b54"
  }
 ],
 "metadata": {
  "kernelspec": {
   "display_name": "Python 3",
   "language": "python",
   "name": "python3"
  },
  "language_info": {
   "codemirror_mode": {
    "name": "ipython",
    "version": 2
   },
   "file_extension": ".py",
   "mimetype": "text/x-python",
   "name": "python",
   "nbconvert_exporter": "python",
   "pygments_lexer": "ipython2",
   "version": "2.7.6"
  }
 },
 "nbformat": 4,
 "nbformat_minor": 5
}
